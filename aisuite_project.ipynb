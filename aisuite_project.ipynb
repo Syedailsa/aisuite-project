{
  "nbformat": 4,
  "nbformat_minor": 0,
  "metadata": {
    "colab": {
      "provenance": []
    },
    "kernelspec": {
      "name": "python3",
      "display_name": "Python 3"
    },
    "language_info": {
      "name": "python"
    }
  },
  "cells": [
    {
      "cell_type": "markdown",
      "source": [
        "#**aisuite**\n",
        "\n",
        "Simple, unified interface to multiple Generative AI providers.\n",
        "\n",
        "aisuite makes it easy for developers to use multiple LLM through a standardized interface. Using an interface similar to OpenAI's, aisuite makes it easy to interact with the most popular LLMs and compare the results. It is a thin wrapper around python client libraries, and allows creators to seamlessly swap out and test responses from different LLM providers without changing their code. Today, the library is primarily focussed on chat completions. We will expand it cover more use cases in near future.\n",
        "\n",
        "Currently supported providers are - OpenAI, Anthropic, Azure, Google, AWS, Groq, Mistral, HuggingFace Ollama, Sambanova and Watsonx. To maximize stability, aisuite uses either the HTTP endpoint or the SDK for making calls to the provider.\n",
        "\n",
        "#**Installation**\n",
        "\n",
        "Fiirst we run the command\n",
        "This installs all the provider-specific libraries:\n",
        "\n",
        "`pip install 'aisuite[all]'`\n",
        "\n",
        "httpx is a modern HTTP client for Python.\n",
        "To ensure compatibility, install version 0.24.1:\n",
        "\n",
        "`pip install  httpx==0.24.1`\n",
        "\n",
        "This version is stable and works well with libraries requiring HTTP requests.\n",
        "\n",
        "\n"
      ],
      "metadata": {
        "id": "7Oiv0ZWPHfFw"
      }
    },
    {
      "cell_type": "code",
      "source": [
        "!pip install 'aisuite[all]'\n",
        "!pip install  httpx==0.24.1"
      ],
      "metadata": {
        "colab": {
          "base_uri": "https://localhost:8080/"
        },
        "collapsed": true,
        "id": "I0jAlZkWVeey",
        "outputId": "f40b64b4-f640-4ce5-9062-231a43330ff1"
      },
      "execution_count": null,
      "outputs": [
        {
          "output_type": "stream",
          "name": "stdout",
          "text": [
            "Requirement already satisfied: aisuite[all] in /usr/local/lib/python3.10/dist-packages (0.1.6)\n",
            "Requirement already satisfied: anthropic<0.31.0,>=0.30.1 in /usr/local/lib/python3.10/dist-packages (from aisuite[all]) (0.30.1)\n",
            "Requirement already satisfied: groq<0.10.0,>=0.9.0 in /usr/local/lib/python3.10/dist-packages (from aisuite[all]) (0.9.0)\n",
            "Requirement already satisfied: openai<2.0.0,>=1.35.8 in /usr/local/lib/python3.10/dist-packages (from aisuite[all]) (1.54.5)\n",
            "Requirement already satisfied: anyio<5,>=3.5.0 in /usr/local/lib/python3.10/dist-packages (from anthropic<0.31.0,>=0.30.1->aisuite[all]) (3.7.1)\n",
            "Requirement already satisfied: distro<2,>=1.7.0 in /usr/local/lib/python3.10/dist-packages (from anthropic<0.31.0,>=0.30.1->aisuite[all]) (1.9.0)\n",
            "Requirement already satisfied: httpx<1,>=0.23.0 in /usr/local/lib/python3.10/dist-packages (from anthropic<0.31.0,>=0.30.1->aisuite[all]) (0.24.1)\n",
            "Requirement already satisfied: jiter<1,>=0.4.0 in /usr/local/lib/python3.10/dist-packages (from anthropic<0.31.0,>=0.30.1->aisuite[all]) (0.8.2)\n",
            "Requirement already satisfied: pydantic<3,>=1.9.0 in /usr/local/lib/python3.10/dist-packages (from anthropic<0.31.0,>=0.30.1->aisuite[all]) (2.10.3)\n",
            "Requirement already satisfied: sniffio in /usr/local/lib/python3.10/dist-packages (from anthropic<0.31.0,>=0.30.1->aisuite[all]) (1.3.1)\n",
            "Requirement already satisfied: tokenizers>=0.13.0 in /usr/local/lib/python3.10/dist-packages (from anthropic<0.31.0,>=0.30.1->aisuite[all]) (0.20.3)\n",
            "Requirement already satisfied: typing-extensions<5,>=4.7 in /usr/local/lib/python3.10/dist-packages (from anthropic<0.31.0,>=0.30.1->aisuite[all]) (4.12.2)\n",
            "Requirement already satisfied: tqdm>4 in /usr/local/lib/python3.10/dist-packages (from openai<2.0.0,>=1.35.8->aisuite[all]) (4.66.6)\n",
            "Requirement already satisfied: idna>=2.8 in /usr/local/lib/python3.10/dist-packages (from anyio<5,>=3.5.0->anthropic<0.31.0,>=0.30.1->aisuite[all]) (3.10)\n",
            "Requirement already satisfied: exceptiongroup in /usr/local/lib/python3.10/dist-packages (from anyio<5,>=3.5.0->anthropic<0.31.0,>=0.30.1->aisuite[all]) (1.2.2)\n",
            "Requirement already satisfied: certifi in /usr/local/lib/python3.10/dist-packages (from httpx<1,>=0.23.0->anthropic<0.31.0,>=0.30.1->aisuite[all]) (2024.8.30)\n",
            "Requirement already satisfied: httpcore<0.18.0,>=0.15.0 in /usr/local/lib/python3.10/dist-packages (from httpx<1,>=0.23.0->anthropic<0.31.0,>=0.30.1->aisuite[all]) (0.17.3)\n",
            "Requirement already satisfied: annotated-types>=0.6.0 in /usr/local/lib/python3.10/dist-packages (from pydantic<3,>=1.9.0->anthropic<0.31.0,>=0.30.1->aisuite[all]) (0.7.0)\n",
            "Requirement already satisfied: pydantic-core==2.27.1 in /usr/local/lib/python3.10/dist-packages (from pydantic<3,>=1.9.0->anthropic<0.31.0,>=0.30.1->aisuite[all]) (2.27.1)\n",
            "Requirement already satisfied: huggingface-hub<1.0,>=0.16.4 in /usr/local/lib/python3.10/dist-packages (from tokenizers>=0.13.0->anthropic<0.31.0,>=0.30.1->aisuite[all]) (0.26.5)\n",
            "Requirement already satisfied: h11<0.15,>=0.13 in /usr/local/lib/python3.10/dist-packages (from httpcore<0.18.0,>=0.15.0->httpx<1,>=0.23.0->anthropic<0.31.0,>=0.30.1->aisuite[all]) (0.14.0)\n",
            "Requirement already satisfied: filelock in /usr/local/lib/python3.10/dist-packages (from huggingface-hub<1.0,>=0.16.4->tokenizers>=0.13.0->anthropic<0.31.0,>=0.30.1->aisuite[all]) (3.16.1)\n",
            "Requirement already satisfied: fsspec>=2023.5.0 in /usr/local/lib/python3.10/dist-packages (from huggingface-hub<1.0,>=0.16.4->tokenizers>=0.13.0->anthropic<0.31.0,>=0.30.1->aisuite[all]) (2024.10.0)\n",
            "Requirement already satisfied: packaging>=20.9 in /usr/local/lib/python3.10/dist-packages (from huggingface-hub<1.0,>=0.16.4->tokenizers>=0.13.0->anthropic<0.31.0,>=0.30.1->aisuite[all]) (24.2)\n",
            "Requirement already satisfied: pyyaml>=5.1 in /usr/local/lib/python3.10/dist-packages (from huggingface-hub<1.0,>=0.16.4->tokenizers>=0.13.0->anthropic<0.31.0,>=0.30.1->aisuite[all]) (6.0.2)\n",
            "Requirement already satisfied: requests in /usr/local/lib/python3.10/dist-packages (from huggingface-hub<1.0,>=0.16.4->tokenizers>=0.13.0->anthropic<0.31.0,>=0.30.1->aisuite[all]) (2.32.3)\n",
            "Requirement already satisfied: charset-normalizer<4,>=2 in /usr/local/lib/python3.10/dist-packages (from requests->huggingface-hub<1.0,>=0.16.4->tokenizers>=0.13.0->anthropic<0.31.0,>=0.30.1->aisuite[all]) (3.4.0)\n",
            "Requirement already satisfied: urllib3<3,>=1.21.1 in /usr/local/lib/python3.10/dist-packages (from requests->huggingface-hub<1.0,>=0.16.4->tokenizers>=0.13.0->anthropic<0.31.0,>=0.30.1->aisuite[all]) (2.2.3)\n",
            "Requirement already satisfied: httpx==0.24.1 in /usr/local/lib/python3.10/dist-packages (0.24.1)\n",
            "Requirement already satisfied: certifi in /usr/local/lib/python3.10/dist-packages (from httpx==0.24.1) (2024.8.30)\n",
            "Requirement already satisfied: httpcore<0.18.0,>=0.15.0 in /usr/local/lib/python3.10/dist-packages (from httpx==0.24.1) (0.17.3)\n",
            "Requirement already satisfied: idna in /usr/local/lib/python3.10/dist-packages (from httpx==0.24.1) (3.10)\n",
            "Requirement already satisfied: sniffio in /usr/local/lib/python3.10/dist-packages (from httpx==0.24.1) (1.3.1)\n",
            "Requirement already satisfied: h11<0.15,>=0.13 in /usr/local/lib/python3.10/dist-packages (from httpcore<0.18.0,>=0.15.0->httpx==0.24.1) (0.14.0)\n",
            "Requirement already satisfied: anyio<5.0,>=3.0 in /usr/local/lib/python3.10/dist-packages (from httpcore<0.18.0,>=0.15.0->httpx==0.24.1) (3.7.1)\n",
            "Requirement already satisfied: exceptiongroup in /usr/local/lib/python3.10/dist-packages (from anyio<5.0,>=3.0->httpcore<0.18.0,>=0.15.0->httpx==0.24.1) (1.2.2)\n"
          ]
        }
      ]
    },
    {
      "cell_type": "markdown",
      "source": [
        "#**Set up**\n",
        "\n",
        "To get started, you will need API Keys for the providers you intend to use. You'll need to install the provider-specific library either separately or when installing aisuite.\n",
        "\n",
        "The API Keys can be set as environment variables, or can be passed as config to the aisuite Client constructor. You can use tools like python-dotenv or direnv to set the environment variables manually.\n",
        "\n",
        "In our case the API Key is set as a secret in colab secrets folder as GROQ_API_KEY, to get the secrets we will run:\n",
        "\n",
        "```\n",
        "from google.colab import userdata\n",
        "\n",
        "api_key = userdata.get('GROQ_API_KEY')\n",
        "os.environ['GROQ_API_KEY'] = api_key\n",
        "\n",
        "```\n",
        "\n",
        "Use the python client."
      ],
      "metadata": {
        "id": "SOOyoObcKAPy"
      }
    },
    {
      "cell_type": "code",
      "source": [
        "import os\n",
        "import aisuite as ai\n",
        "from google.colab import userdata\n",
        "\n",
        "api_key = userdata.get('GROQ_API_KEY')\n",
        "os.environ['GROQ_API_KEY'] = api_key\n",
        "\n",
        "client = ai.Client()\n",
        "\n",
        "models = \"groq:llama-3.2-3b-instant\"\n",
        "models = \"groq:llama-3.2-3b-preview\"\n",
        "\n",
        "messages = [\n",
        "    {\"role\": \"system\", \"content\": \"You are a helpful agent, who answers in simple english.\"},\n",
        "    {\"role\": \"user\", \"content\": 'tell me about aisuite in terms of agentic ai'},\n",
        "]\n",
        "\n",
        "response = client.chat.completions.create(\n",
        "    model=models,\n",
        "    messages=messages,\n",
        "    temperature=0.75\n",
        ")\n",
        "\n",
        "print(\"Ilsa Ubaid\")\n",
        "print(\"=\"*20)\n",
        "print(response.choices[0].message.content)\n"
      ],
      "metadata": {
        "colab": {
          "base_uri": "https://localhost:8080/"
        },
        "id": "UJDUh8binZK3",
        "outputId": "71e1f62f-5f6a-4ce9-b6b7-236f437200e7"
      },
      "execution_count": null,
      "outputs": [
        {
          "output_type": "stream",
          "name": "stdout",
          "text": [
            "Ilsa Ubaid\n",
            "====================\n",
            "AI Suite is not a well-known term. However, I'll explain something similar.\n",
            "\n",
            "In the context of Agentic AI, a type of AI that can act and make decisions on its own, we often talk about \"multipurpose AI\" or \"hybrid AI.\" These types of AI can perform multiple tasks, like learning, reasoning, and problem-solving.\n",
            "\n",
            "Some examples of AI Suite-like systems include:\n",
            "\n",
            "1. **Microsoft's Cognitive Toolkit (CNTK)**: A deep learning toolkit that allows for multiple tasks, like image and speech recognition.\n",
            "2. **Google's AI Platform**: A suite of tools that enable multiple AI tasks, including machine learning, natural language processing, and computer vision.\n",
            "3. **IBM's Watson**: A type of hybrid AI that can perform multiple tasks, like question-answering, text analysis, and data analytics.\n",
            "\n",
            "These systems combine multiple AI components to achieve better results. However, there's no specific term \"AI Suite\" that I'm aware of. If you have more information about what you mean, I'll try to help you better.\n"
          ]
        }
      ]
    },
    {
      "cell_type": "markdown",
      "source": [
        "Note that the model name in the `create()` call uses the format - `<provider>:<model-name>`. [aisuite](https://github.com/andrewyng/aisuite?tab=readme-ov-file#readme) will call the appropriate provider with the right parameters based on the provider value. For a list of provider values, you can look at the directory - `aisuite/providers/.`"
      ],
      "metadata": {
        "id": "QCWNmDLmMQIE"
      }
    }
  ]
}